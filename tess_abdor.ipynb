{
 "cells": [
  {
   "cell_type": "code",
   "execution_count": null,
   "metadata": {},
   "outputs": [],
   "source": [
    "%matplotlib inline\n",
    "import matplotlib.pyplot as plt\n",
    "import numpy as np\n",
    "import astropy.units as u\n",
    "from lightkurve import search_lightcurvefile"
   ]
  },
  {
   "cell_type": "code",
   "execution_count": null,
   "metadata": {},
   "outputs": [],
   "source": [
    "star = 'AB Dor'\n",
    "lcf = search_lightcurvefile(star, mission='TESS').download_all()"
   ]
  },
  {
   "cell_type": "code",
   "execution_count": null,
   "metadata": {},
   "outputs": [],
   "source": [
    "lc = lcf.PDCSAP_FLUX.stitch()"
   ]
  },
  {
   "cell_type": "code",
   "execution_count": null,
   "metadata": {},
   "outputs": [],
   "source": [
    "plt.plot(lc.time, lc.flux)\n",
    "plt.xlim([1340, 1352])\n",
    "plt.ylim([0.95, 1.05])\n",
    "for sp in 'right top'.split():\n",
    "    plt.gca().spines[sp].set_visible(False)\n",
    "    \n",
    "plt.gca().set(xlabel='Time [d]', ylabel='Flux')\n",
    "plt.savefig('plots/abdor.png', bbox_inches='tight', dpi=250)"
   ]
  },
  {
   "cell_type": "code",
   "execution_count": null,
   "metadata": {},
   "outputs": [],
   "source": [
    "t, f, e = lc.time[~np.isnan(lc.flux)], lc.flux[~np.isnan(lc.flux)], lc.flux_err[~np.isnan(lc.flux)]"
   ]
  },
  {
   "cell_type": "code",
   "execution_count": null,
   "metadata": {},
   "outputs": [],
   "source": [
    "max_time = 1362# + 20 #1352\n",
    "min_time = 1360# + 20\n",
    "skip = 15\n",
    "\n",
    "t1, f1, e1 = t[(t < max_time) & (t > min_time)][::skip], f[(t < max_time) & (t > min_time)][::skip], 50 * e[(t < max_time) & (t > min_time)][::skip]"
   ]
  },
  {
   "cell_type": "code",
   "execution_count": null,
   "metadata": {},
   "outputs": [],
   "source": [
    "plt.errorbar(t1, f1, e1)"
   ]
  },
  {
   "cell_type": "code",
   "execution_count": null,
   "metadata": {},
   "outputs": [],
   "source": [
    "import pymc3 as pm\n",
    "from pymc3.smc import sample_smc\n",
    "import theano\n",
    "from corner import corner\n",
    "\n",
    "e1_tt = theano.shared(np.asarray(e1, dtype=theano.config.floatX), name='e1')"
   ]
  },
  {
   "cell_type": "code",
   "execution_count": null,
   "metadata": {},
   "outputs": [],
   "source": [
    "t1.ptp()/4\n",
    "#plt.plot(t1, f1)"
   ]
  },
  {
   "cell_type": "code",
   "execution_count": null,
   "metadata": {},
   "outputs": [],
   "source": [
    "shear = 0.2\n",
    "lat = np.pi * 0.1\n",
    "eq_period = 5\n",
    "period_i = eq_period / (1 - shear * np.sin(lat - np.pi/2)**2)"
   ]
  },
  {
   "cell_type": "code",
   "execution_count": null,
   "metadata": {},
   "outputs": [],
   "source": [
    "period_i"
   ]
  },
  {
   "cell_type": "code",
   "execution_count": null,
   "metadata": {},
   "outputs": [],
   "source": [
    "n_spots = 2\n",
    "\n",
    "with pm.Model(name=f'{n_spots}') as model1:\n",
    "\n",
    "    f0 = pm.Uniform(\"f0\", lower=0, upper=1)\n",
    "    nu = pm.Uniform(\"nu\", lower=1, upper=5)    \n",
    "    spot_model = 1 + f0\n",
    "    #eq_period = pm.Uniform(\"P_eq\", lower=0.2, upper=0.3)\n",
    "    eq_period = pm.Uniform(\"P_eq\", lower=0.01, upper=0.6)\n",
    "    shear = pm.Uniform(\"shear\", lower=0., upper=0.2)\n",
    "    inclination = 60\n",
    "    \n",
    "    for spot_ind in range(n_spots):\n",
    "        latitude_cutoff = 1\n",
    "        contrast = pm.Uniform(f\"contrast_{spot_ind}\", lower=0.1, upper=0.8)\n",
    "        lon = pm.Uniform(f\"lon_{spot_ind}\", lower=0, upper=2*np.pi)\n",
    "        #lat = pm.Uniform(f\"lat_{spot_ind}\", lower=np.radians(latitude_cutoff), upper=np.radians(180-latitude_cutoff))\n",
    "\n",
    "        if spot_ind == 0:\n",
    "            lat = pm.Uniform(f\"lat_{spot_ind}\", lower=np.pi/2, upper=np.pi)\n",
    "        else: \n",
    "            lat = pm.Uniform(f\"lat_{spot_ind}\", lower=0, upper=np.pi/2)\n",
    "        rspot = pm.Uniform(f\"R_spot_{spot_ind}\", lower=0.01, upper=0.8)\n",
    "\n",
    "        period_i = eq_period / (1 - shear * pm.math.sin(lat - np.pi/2)**2)\n",
    "        phi = 2 * np.pi / period_i * (t1 - t1.mean()) - lon\n",
    "\n",
    "        spot_position_x = (pm.math.cos(phi - np.pi/2) * pm.math.sin(np.radians(inclination)) * pm.math.sin(theta) + \n",
    "                           pm.math.cos(np.radians(inclination)) * pm.math.cos(lat))\n",
    "        spot_position_y = -pm.math.sin(phi - np.pi/2) * pm.math.sin(lat)\n",
    "        spot_position_z = (pm.math.cos(lat) * pm.math.sin(np.radians(inclination)) - pm.math.sin(phi) * \n",
    "                           pm.math.cos(np.radians(inclination)) * pm.math.sin(lat))\n",
    "\n",
    "        rsq = spot_position_x**2 + spot_position_y**2\n",
    "#         contrast = 0.7\n",
    "        spot_model -= rspot**2 * (1 - contrast) * pm.math.where(spot_position_z > 0, pm.math.sqrt(1 - rsq), 0)\n",
    "    \n",
    "    pm.StudentT(\"obs\", mu=spot_model, nu=nu,\n",
    "                sigma=e1_tt,\n",
    "                observed=f1)\n",
    "    \n",
    "    trace1 = sample_smc(5000, n_steps=2, #random_seed=0, \n",
    "                        cores=8, parallel=True, threshold=0.2)"
   ]
  },
  {
   "cell_type": "code",
   "execution_count": null,
   "metadata": {},
   "outputs": [],
   "source": [
    "# def numpy_model_seq(lat, lon, rspot, f0, per, shear, contrast=0.7, inclination=45):\n",
    "    \n",
    "#     spot_model = 1 + f0\n",
    "#     eq_period = per\n",
    "#     for i in range(len(lon)):\n",
    "#         period_i = eq_period / (1 - shear * np.sin(lat[i] - np.pi/2)**2)\n",
    "#         theta = lat[i] #- np.pi/2\n",
    "#         phi =  2 * np.pi / period_i * (t1 - t1.mean()) - lon[i]\n",
    "#         spot_position_x = (np.cos(phi - np.pi/2) * np.sin(np.radians(inclination)) * np.sin(theta) + \n",
    "#                            np.cos(np.radians(inclination)) * np.cos(theta))\n",
    "#         spot_position_y = -(np.sin(phi - np.pi/2) * np.sin(theta))\n",
    "#         spot_position_z = np.cos(theta) * np.sin(np.radians(inclination)) - np.sin(phi) * np.cos(np.radians(inclination)) * np.sin(theta)\n",
    "\n",
    "#         rsq = (spot_position_x**2 + spot_position_y**2)\n",
    "#         tmp = np.sqrt(1 - rsq)\n",
    "#         spot_model -= rspot[i]**2 * (1 - contrast) * np.where(spot_position_z > 0, tmp, 0) \n",
    "\n",
    "#     return spot_model, spot_position_z"
   ]
  },
  {
   "cell_type": "code",
   "execution_count": null,
   "metadata": {},
   "outputs": [],
   "source": [
    "with model1:\n",
    "    ppc = pm.sample_posterior_predictive(trace1, samples=100)"
   ]
  },
  {
   "cell_type": "code",
   "execution_count": null,
   "metadata": {},
   "outputs": [],
   "source": [
    "plt.figure(figsize=(20, 3))\n",
    "plt.errorbar(t1, f1, e1, fmt='.', color='k')\n",
    "\n",
    "# samples = pm.trace_to_dataframe(trace1).values\n",
    "\n",
    "# for s in samples[np.random.randint(0, samples.shape[0], size=10)]:\n",
    "#     f0, per, shear, lon, lat, rspot = s[0], s[2], s[3], s[4::3], s[5::3], s[6::3]\n",
    "#     print(f0, per, shear, lon, lat, rspot)\n",
    "#     model, spot_position_z = numpy_model_seq(lat, lon, rspot, f0, per, shear, inclination=90-60)\n",
    "#     plt.plot(t1, model, alpha=1)\n",
    "# #     plt.plot(t1, spot_position_z)\n",
    "\n",
    "plt.plot(t1, ppc['2_obs'].T, color='DodgerBlue', lw=2, alpha=0.05)\n",
    "plt.ylim([0.92, 1.05])\n",
    "\n",
    "plt.gca().set(xlabel='Time [d]', ylabel='Flux')\n",
    "plt.show()"
   ]
  },
  {
   "cell_type": "code",
   "execution_count": null,
   "metadata": {},
   "outputs": [],
   "source": [
    "# from interpacf import interpolated_acf\n",
    "\n",
    "# lag, acf = interpolated_acf(t1, f1-f1.mean())\n",
    "\n",
    "# plt.plot(lag, acf)"
   ]
  },
  {
   "cell_type": "code",
   "execution_count": null,
   "metadata": {},
   "outputs": [],
   "source": [
    "corner(pm.trace_to_dataframe(trace1));"
   ]
  },
  {
   "cell_type": "code",
   "execution_count": null,
   "metadata": {},
   "outputs": [],
   "source": [
    "import healpy as hp\n",
    "\n",
    "NSIDE = 2**8\n",
    "\n",
    "NPIX = hp.nside2npix(NSIDE)\n",
    "\n",
    "m = np.zeros(NPIX)\n",
    "\n",
    "samples = pm.trace_to_dataframe(trace1).values\n",
    "\n",
    "for contrast, lon, lat, rspot in np.median(samples[:, 4:], axis=0).reshape((n_spots, 4)):\n",
    "    print(lon, lat)\n",
    "    spot_vec = hp.ang2vec(lat, lon)\n",
    "    ipix_spots = hp.query_disc(nside=NSIDE, vec=spot_vec, radius=rspot)\n",
    "    m[ipix_spots] = 1 - contrast\n",
    "\n",
    "cmap = plt.cm.Greys\n",
    "cmap.set_under('w')\n",
    "\n",
    "hp.mollview(m, cbar=False, title=\"\", cmap=cmap, hold=True,\n",
    "            max=1.0, notext=True, flip='geo')\n",
    "hp.graticule(color='silver')\n",
    "plt.show()"
   ]
  },
  {
   "cell_type": "code",
   "execution_count": null,
   "metadata": {},
   "outputs": [],
   "source": [
    "# # lats = np.array([np.pi/2, np.pi/2])\n",
    "# # lons = np.array([0, np.pi])\n",
    "# # rads = np.array([0.01, 0.05])\n",
    "\n",
    "# lats = np.array([np.pi * 0.05])\n",
    "# lons = np.array([0])\n",
    "# rads = np.array([0.01])\n",
    "\n",
    "# inclination = 90\n",
    "# seq = numpy_model_seq(lats, lons, rads, 0., 0.51, 0.0, inclination=90-inclination)[0]\n",
    "# plt.plot(t1, seq)\n",
    "\n",
    "# phases = ((t1 - t1.mean()) % 0.51) / 0.51\n",
    "\n",
    "# from fleck import Star\n",
    "\n",
    "# s = Star(0.7, [0, 0], rotation_period=0.51, phases=phases)\n",
    "# lc = s.light_curve(\n",
    "#     (lons + 1.5 * np.pi)[:, None] * u.rad, \n",
    "#     u.rad * np.pi/2 - lats[:, None] * u.rad, \n",
    "#     rads[:, None], \n",
    "#     inc_stellar=inclination*u.deg,\n",
    "#     times=t1, time_ref=t1.mean(),\n",
    "# )[:, 0]\n",
    "# plt.plot(t1, lc, '--')\n",
    "# plt.xlim([1360, 1362])"
   ]
  },
  {
   "cell_type": "code",
   "execution_count": null,
   "metadata": {},
   "outputs": [],
   "source": [
    "# from astropy.coordinates import (CartesianRepresentation,\n",
    "#                                  UnitSphericalRepresentation)\n",
    "# from astropy.coordinates.matrix_utilities import rotation_matrix\n",
    "\n",
    "# usr = UnitSphericalRepresentation((lons + np.pi/2)[:, None] * u.rad, u.rad * np.pi/2 - lats[:, None] * u.rad)\n",
    "\n",
    "# # Represent those spots with cartesian coordinates (x, y, z)\n",
    "# # In this coordinate system, the observer is at positive x->inf,\n",
    "# # the star is at the origin, and (y, z) is the sky plane.\n",
    "# cartesian = usr.represent_as(CartesianRepresentation)\n",
    "\n",
    "# # Generate array of rotation matrices to rotate the spots about the\n",
    "# # stellar rotation axis\n",
    "# times = t1\n",
    "# time_ref = t1.mean()\n",
    "# rotation_period = 0.51\n",
    "# rotational_phase = 2 * np.pi * ((times - time_ref) /\n",
    "#                                 rotation_period) * u.rad\n",
    "# rotate = rotation_matrix(rotational_phase[:, np.newaxis, np.newaxis],\n",
    "#                          axis='z')\n",
    "\n",
    "# rotated_spots = cartesian.transform(rotate)\n",
    "\n",
    "# inc_stellar = inclination * u.deg\n",
    "# # Generate array of rotation matrices to rotate the spots so that the\n",
    "# # star is observed from the correct stellar inclination\n",
    "# stellar_inclination = rotation_matrix(inc_stellar - 90*u.deg, axis='y')\n",
    "# inclined_spots = rotated_spots.transform(stellar_inclination)"
   ]
  },
  {
   "cell_type": "code",
   "execution_count": null,
   "metadata": {},
   "outputs": [],
   "source": [
    "\n",
    "\n",
    "# theta = lats[0]\n",
    "# period = 0.51\n",
    "# phi = 2 * np.pi / period * (t1 - t1.mean()) - lons[0]\n",
    "# spot_position_x = (np.cos(phi - np.pi/2) * np.sin(np.radians(inclination)) * np.sin(theta) + \n",
    "#                    np.cos(np.radians(inclination)) * np.cos(theta))\n",
    "# spot_position_y = -(np.sin(phi - np.pi/2) * np.sin(theta))\n",
    "# spot_position_z = np.cos(theta) * np.sin(np.radians(inclination)) - np.sin(phi) * np.cos(np.radians(inclination)) * np.sin(theta)\n",
    "\n",
    "# plt.plot(t1, inclined_spots.x.ravel().value, label='x')\n",
    "# plt.plot(t1, inclined_spots.y.ravel().value, label='y')\n",
    "# plt.plot(t1, inclined_spots.z.ravel().value, label='z')\n",
    "\n",
    "# plt.plot(t1, spot_position_x, ls='--', label=\"x'\")\n",
    "# plt.plot(t1, spot_position_y, ls='--', label=\"y'\")\n",
    "# plt.plot(t1, spot_position_z, ls='--', label=\"z'\")\n",
    "# print(spot_position_z.min(), inclined_spots.z.ravel().min())\n",
    "# plt.legend()\n",
    "# plt.xlim([1360, 1362])"
   ]
  },
  {
   "cell_type": "code",
   "execution_count": null,
   "metadata": {},
   "outputs": [],
   "source": []
  }
 ],
 "metadata": {
  "kernelspec": {
   "display_name": "Python 3",
   "language": "python",
   "name": "python3"
  },
  "language_info": {
   "codemirror_mode": {
    "name": "ipython",
    "version": 3
   },
   "file_extension": ".py",
   "mimetype": "text/x-python",
   "name": "python",
   "nbconvert_exporter": "python",
   "pygments_lexer": "ipython3",
   "version": "3.7.6"
  }
 },
 "nbformat": 4,
 "nbformat_minor": 4
}
