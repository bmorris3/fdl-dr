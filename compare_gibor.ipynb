{
 "cells": [
  {
   "cell_type": "markdown",
   "metadata": {},
   "source": [
    "Example for comparing with Gibor Basri's model light curves:"
   ]
  },
  {
   "cell_type": "code",
   "execution_count": null,
   "metadata": {},
   "outputs": [],
   "source": [
    "%matplotlib inline\n",
    "import matplotlib.pyplot as plt\n",
    "import numpy as np\n",
    "from fleck import Star\n",
    "import astropy.units as u\n",
    "from astropy.table import Table\n",
    "\n",
    "phases = np.linspace(0, 2*np.pi, 100) * u.rad\n",
    "star = Star(0.7, [0.4, 0.2], phases=phases)\n",
    "\n",
    "lcs = []\n",
    "names = []\n",
    "\n",
    "lcs.append(phases)\n",
    "names.append('phase')\n",
    "\n",
    "latitude = [[17], [-12]]*u.deg\n",
    "longitude = [[100], [300]]*u.deg\n",
    "radius = np.array([[0.05], [0.04]])\n",
    "\n",
    "for inc_stellar in [30, 60, 90]*u.deg:    \n",
    "    lc = star.light_curve(longitude, latitude, radius, inc_stellar)[:, 0]\n",
    "    lcs.append(lc)\n",
    "    names.append(f\"{inc_stellar.value : .0f}deg\")\n",
    "    plt.plot(lc)"
   ]
  },
  {
   "cell_type": "code",
   "execution_count": null,
   "metadata": {},
   "outputs": [],
   "source": [
    "Table(lcs, names=names).write('data/fleck_demo.csv', format='ascii.csv')"
   ]
  },
  {
   "cell_type": "code",
   "execution_count": null,
   "metadata": {},
   "outputs": [],
   "source": []
  }
 ],
 "metadata": {
  "kernelspec": {
   "display_name": "Python 3",
   "language": "python",
   "name": "python3"
  },
  "language_info": {
   "codemirror_mode": {
    "name": "ipython",
    "version": 3
   },
   "file_extension": ".py",
   "mimetype": "text/x-python",
   "name": "python",
   "nbconvert_exporter": "python",
   "pygments_lexer": "ipython3",
   "version": "3.7.6"
  }
 },
 "nbformat": 4,
 "nbformat_minor": 4
}
