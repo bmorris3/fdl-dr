{
 "cells": [
  {
   "cell_type": "code",
   "execution_count": 1,
   "metadata": {},
   "outputs": [],
   "source": [
    "%matplotlib inline\n",
    "import matplotlib.pyplot as plt\n",
    "import numpy as np\n",
    "import astropy.units as u\n",
    "import os\n",
    "from collections import namedtuple\n",
    "\n",
    "from lightkurve import search_lightcurvefile"
   ]
  },
  {
   "cell_type": "code",
   "execution_count": 15,
   "metadata": {},
   "outputs": [
    {
     "data": {
      "text/plain": [
       "'inc2.npy'"
      ]
     },
     "execution_count": 15,
     "metadata": {},
     "output_type": "execute_result"
    }
   ],
   "source": [
    "paths"
   ]
  },
  {
   "cell_type": "code",
   "execution_count": 18,
   "metadata": {},
   "outputs": [
    {
     "data": {
      "text/plain": [
       "['inc0.npy', 'inc3.npy', 'inc4.npy']"
      ]
     },
     "execution_count": 18,
     "metadata": {},
     "output_type": "execute_result"
    }
   ],
   "source": [
    "paths"
   ]
  },
  {
   "cell_type": "code",
   "execution_count": 27,
   "metadata": {},
   "outputs": [
    {
     "data": {
      "image/png": "[encoded data removed]",
      "text/plain": [
       "<Figure size 288x216 with 1 Axes>"
      ]
     },
     "metadata": {
      "needs_background": "light"
     },
     "output_type": "display_data"
    }
   ],
   "source": [
    "##### from glob import glob\n",
    "\n",
    "paths = sorted(glob('inc*.npy'))\n",
    "paths = paths[0:1] + paths[2:]\n",
    "\n",
    "chunks = [\n",
    "    '1340-1353', \n",
    "    '1325-1339',\n",
    "    '1453-1464'\n",
    "]\n",
    "fig, ax = plt.subplots(figsize=(4, 3))\n",
    "for i, path in enumerate(paths): \n",
    "    plt.hist(np.load(path), alpha=0.8, histtype='step', lw=3, label=chunks[i])\n",
    "plt.legend()\n",
    "\n",
    "for sp in ['right', 'top']: \n",
    "    ax.spines[sp].set_visible(False)\n",
    "plt.xlabel('Inclination [deg]')\n",
    "plt.savefig('plots/abdor_incs.png', bbox_inches='tight', dpi=250)"
   ]
  },
  {
   "cell_type": "code",
   "execution_count": null,
   "metadata": {},
   "outputs": [],
   "source": []
  }
 ],
 "metadata": {
  "kernelspec": {
   "display_name": "Python 3",
   "language": "python",
   "name": "python3"
  },
  "language_info": {
   "codemirror_mode": {
    "name": "ipython",
    "version": 3
   },
   "file_extension": ".py",
   "mimetype": "text/x-python",
   "name": "python",
   "nbconvert_exporter": "python",
   "pygments_lexer": "ipython3",
   "version": "3.7.6"
  }
 },
 "nbformat": 4,
 "nbformat_minor": 4
}
