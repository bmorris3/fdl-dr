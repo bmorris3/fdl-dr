{
 "cells": [
  {
   "cell_type": "code",
   "execution_count": 1,
   "metadata": {},
   "outputs": [],
   "source": [
    "%matplotlib inline\n",
    "import matplotlib.pyplot as plt\n",
    "import numpy as np\n",
    "import astropy.units as u"
   ]
  },
  {
   "cell_type": "code",
   "execution_count": 135,
   "metadata": {},
   "outputs": [],
   "source": [
    "class DR(object):\n",
    "    def __init__(self, name, omega_eq, delta_omega, delta_omega_err, ref, symbol='.'):\n",
    "        self.name = name\n",
    "        self.omega_eq = omega_eq\n",
    "        self.delta_omega = delta_omega\n",
    "        self.delta_omega_err = delta_omega_err\n",
    "        self.ref = ref\n",
    "        self.symbol = symbol\n",
    "        \n",
    "    @property\n",
    "    def alpha(self):\n",
    "        return (self.delta_omega * u.rad / u.day) / (self.omega_eq * u.rad / u.day)\n",
    "        \n",
    "    @property\n",
    "    def alpha_err(self):\n",
    "        return (self.prot / (2 * np.pi) * self.delta_omega_err).value\n",
    "    \n",
    "    @property\n",
    "    def prot(self):\n",
    "        return 2 * np.pi * u.rad / (self.omega_eq * u.rad / u.day)\n",
    "        \n",
    "    def __repr__(self): \n",
    "        return f\"<{self.name}, {self.ref}>\""
   ]
  },
  {
   "cell_type": "code",
   "execution_count": 142,
   "metadata": {},
   "outputs": [],
   "source": [
    "abdor_delta_omegas = [0.046, 0.091, 0.088, 0.066, 0.071, 0.057, 0.053, 0.047, 0.058, 0.046, 0.054]\n",
    "\n",
    "drs = [\n",
    "    DR(\"Sun\", omega_eq=0.25132741, delta_omega=0.05, \n",
    "       delta_omega_err=0, ref='--', symbol='o'),\n",
    "    DR(\"R58\", omega_eq=11.20, delta_omega=0.14, \n",
    "       delta_omega_err=0.015, ref='Marsden 2005'),\n",
    "    DR(\"R58\", omega_eq=11.20, delta_omega=0.025, \n",
    "       delta_omega_err=0.015, ref='Marsden 2005'),\n",
    "    DR(\"LQ Lup\", omega_eq=20.28, delta_omega=0.15,\n",
    "       delta_omega_err=0.020, ref='Donati 2000'),\n",
    "    DR(\"PZ Tel\", omega_eq=6.650, delta_omega=0.101,\n",
    "       delta_omega_err=0.00654, ref='Barnes 2005b'),\n",
    "    DR(\"Speedy Mic\", omega_eq=16.534, delta_omega=0.03157,\n",
    "       delta_omega_err=0.002, ref='Barnes 2005b'),\n",
    "    DR(\"LQ Hya\", omega_eq=3.9253716, delta_omega=0.19420, \n",
    "       delta_omega_err=0.02160, ref='Donati 2000'),\n",
    "    DR(\"LQ Hya\", omega_eq=3.9253716, delta_omega=0.01440,\n",
    "       delta_omega_err=0.02160, ref='Donati 2000'),\n",
    "    DR(\"LO Peg\", omega_eq=14.86, delta_omega=0.034714, \n",
    "       delta_omega_err=0.00682, ref='Barnes 2005a'),\n",
    "    DR(\"HK Aqr\", omega_eq=14.57, delta_omega=0.00496,\n",
    "       delta_omega_err=0.00917, ref='Barnes 2004')\n",
    "] + [DR(\"AB Dor\", omega_eq=12.2434, delta_omega=ado, delta_omega_err=0.01, ref='Cameron 2002') for ado in abdor_delta_omegas]"
   ]
  },
  {
   "cell_type": "code",
   "execution_count": 147,
   "metadata": {},
   "outputs": [
    {
     "data": {
      "image/png": "[encoded data removed]",
      "text/plain": [
       "<Figure size 288x216 with 1 Axes>"
      ]
     },
     "metadata": {
      "needs_background": "light"
     },
     "output_type": "display_data"
    }
   ],
   "source": [
    "fig, ax = plt.subplots(figsize=(4, 3))\n",
    "for dr in drs: \n",
    "    ax.errorbar(dr.prot.value, dr.alpha, \n",
    "                dr.alpha_err, fmt=dr.symbol, ecolor='silver')\n",
    "ax.set(xscale='log', yscale='log', \n",
    "       xlabel='Period [d]', ylabel='Shear')\n",
    "\n",
    "for sp in ['right', 'top']:\n",
    "    ax.spines[sp].set_visible(False)\n",
    "\n",
    "fig.savefig('plots/shears.png', dpi=250)"
   ]
  },
  {
   "cell_type": "code",
   "execution_count": null,
   "metadata": {},
   "outputs": [],
   "source": []
  }
 ],
 "metadata": {
  "kernelspec": {
   "display_name": "Python 3",
   "language": "python",
   "name": "python3"
  },
  "language_info": {
   "codemirror_mode": {
    "name": "ipython",
    "version": 3
   },
   "file_extension": ".py",
   "mimetype": "text/x-python",
   "name": "python",
   "nbconvert_exporter": "python",
   "pygments_lexer": "ipython3",
   "version": "3.7.6"
  }
 },
 "nbformat": 4,
 "nbformat_minor": 4
}
